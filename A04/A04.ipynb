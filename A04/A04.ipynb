{
  "nbformat": 4,
  "nbformat_minor": 0,
  "metadata": {
    "colab": {
      "name": "A04.ipynb",
      "provenance": [],
      "collapsed_sections": []
    },
    "kernelspec": {
      "name": "python3",
      "display_name": "Python 3"
    },
    "language_info": {
      "name": "python"
    }
  },
  "cells": [
    {
      "cell_type": "markdown",
      "source": [
        "#A04 Document Classification"
      ],
      "metadata": {
        "id": "A1qKCiS716XO"
      }
    },
    {
      "cell_type": "code",
      "source": [
        "import nltk\n",
        "nltk.download('senseval')"
      ],
      "metadata": {
        "id": "bS_O9V8vuIYK"
      },
      "execution_count": null,
      "outputs": []
    },
    {
      "cell_type": "markdown",
      "source": [
        "##**Problem 1**\n",
        "###問題文\n",
        "\n",
        "The Senseval 2 Corpus contains data intended to train word-sense disambiguation classifiers. It contains data for four words: hard, interest, line, and serve. Choose one of these four words, and load the corresponding data:\n",
        "\n",
        "\n",
        "```py.py\n",
        "from nltk.corpus import senseval\n",
        "\n",
        "instances = senseval.instances('hard.pos')\n",
        "size = int(len(instances) * 0.1)\n",
        "train_set, test_set = instances[size:], instances[:size]\n",
        "```\n",
        "Using this dataset, build a classifier that predicts the correct sense tag for a given instance. See the corpus HOWTO at http://nltk.org/howto for information on using the instance objects returned by the Senseval 2 Corpus.\n"
      ],
      "metadata": {
        "id": "eBrDRd8F2Ul5"
      }
    },
    {
      "cell_type": "code",
      "execution_count": null,
      "metadata": {
        "id": "oaQT6TRTt2tN",
        "colab": {
          "base_uri": "https://localhost:8080/"
        },
        "outputId": "ba3f162d-e981-44ca-dfd5-7fc6309038d9"
      },
      "outputs": [
        {
          "output_type": "stream",
          "name": "stdout",
          "text": [
            "because municipal-bond |  interest | is exempt       -> interest_6\n",
            "  at prevailing |  interest | rates .         -> interest_6\n",
            "       bet that |  interest | rates will      -> interest_6\n",
            "      losses if |  interest | rates rise      -> interest_6\n",
            "                |  interest | rates do        -> interest_6\n",
            "                |  interest | rate is         -> interest_6\n",
            "            8 % |  interest | for one         -> interest_6\n",
            "   track market |  interest | rates ,         -> interest_6\n",
            "   the national |  interest | ; in            -> interest_4\n",
            "         to our | interests | in a            -> interest_4\n",
            "            s . |  interest | rates continue  -> interest_6\n",
            "            s . |  interest | rates that      -> interest_6\n",
            "   high british |  interest | rates that      -> interest_6\n",
            "  strong buying |  interest | in the          -> interest_1\n",
            "    investors ' |  interest | in buying       -> interest_1\n",
            "      giant has | interests | in cement       -> interest_5\n",
            "   plus accrued |  interest | to the          -> interest_6\n",
            "         in how |  interest | rates move      -> interest_6\n",
            "  predict where |  interest | rates in        -> interest_6\n",
            "        and gas | interests | up for          -> interest_5\n",
            "       unit has | interests | ranging from    -> interest_5\n",
            "                |  interest | during first    -> interest_6\n",
            "   thereafter , |  interest | paid annually   -> interest_6\n",
            " will represent |  interest | in a            -> interest_5\n",
            "         a half |  interest | in the          -> interest_5\n",
            "    the brewing | interests | .               -> interest_5\n",
            "     the public |  interest | .               -> interest_4\n",
            " instruments as |  interest | rate swaps      -> interest_6\n",
            "      read with |  interest | robert tomsho   -> interest_1\n",
            "                |  interest | is not          -> interest_4\n",
            "similar intellectual | interests | .               -> interest_3\n",
            "   are spurring |  interest | in lighter      -> interest_1\n",
            "         as fat |  interest | payments barely -> interest_6\n",
            "  supports high |  interest | rates to        -> interest_6\n",
            "       said the |  interest | on the          -> interest_6\n",
            "         , base |  interest | rates are       -> interest_6\n",
            "    of charging |  interest | rates much      -> interest_6\n",
            "        but the |  interest | rates they      -> interest_6\n",
            "        , whose | interests | include insurance -> interest_5\n",
            "        year in |  interest | expense .       -> interest_6\n",
            "    no periodic |  interest | payments .      -> interest_6\n",
            "        is some |  interest | in the          -> interest_1\n",
            "       to lower |  interest | rates in        -> interest_6\n",
            "    at variable |  interest | rates ,         -> interest_6\n",
            " the semiannual |  interest | payment on      -> interest_6\n",
            "      missed an |  interest | payment on      -> interest_6\n",
            "         of its |  interest | in britain      -> interest_5\n",
            " foreign annual |  interest | rates below     -> interest_6\n",
            "        sale of | interests | in its          -> interest_5\n",
            "       of covia | interests | .               -> interest_5\n",
            "   company with | interests | in fashion      -> interest_5\n",
            "      to revive |  interest | in the          -> interest_1\n",
            "         , plus |  interest | `` at           -> interest_6\n",
            "       at lower |  interest | rates ,         -> interest_6\n",
            "      bring our |  interest | rate down       -> interest_6\n",
            "     of accrued |  interest | this year       -> interest_6\n",
            "        fix the |  interest | rates on        -> interest_6\n",
            "excluding accrued |  interest | ) --            -> interest_6\n",
            "        bonds ' |  interest | rates as        -> interest_6\n",
            "     fixing the |  interest | rate as         -> interest_6\n",
            "      to accrue |  interest | in paper        -> interest_6\n",
            "        fix the |  interest | rate to         -> interest_6\n",
            "       also has | interests | in defense      -> interest_5\n",
            "enhanced investor |  interest | in precious     -> interest_1\n",
            "  some investor |  interest | in precious     -> interest_1\n",
            "                |  interest | has been        -> interest_1\n",
            "increasing open |  interest | and declining   -> interest_5\n",
            "                |  interest | is the          -> interest_5\n",
            "    pay overdue |  interest | on its          -> interest_6\n",
            "        or from |  interest | on mortgages    -> interest_6\n",
            "         , high |  interest | and materials   -> interest_6\n",
            "       a voting |  interest | of about        -> interest_5\n",
            "            k . |  interest | rates when      -> interest_6\n",
            "        all the |  interest | that sum        -> interest_6\n",
            "    , including |  interest | on past         -> interest_6\n",
            "         773 in |  interest | could be        -> interest_6\n",
            "         on the |  interest | the contributions -> interest_6\n",
            "   allowing the |  interest | buildup on      -> interest_6\n",
            "    to minority | interests | .               -> interest_5\n",
            "  showed little |  interest | in buying       -> interest_1\n",
            " separating the |  interest | payment portion -> interest_6\n",
            "         pay no |  interest | until maturity  -> interest_6\n",
            "   and economic |  interest | .               -> interest_4\n",
            "         `` our |  interest | lies in         -> interest_4\n",
            "         a keen |  interest | in monetary     -> interest_1\n",
            "especially keen |  interest | in board        -> interest_1\n",
            "   toward lower |  interest | rates .         -> interest_6\n",
            "        has let |  interest | rates slip      -> interest_6\n",
            " while bronfman | interests | hold about      -> interest_5\n",
            "  , free-speech | interests | outweighed the  -> interest_4\n",
            " outweighed the | interests | of the          -> interest_4\n",
            "     the public |  interest | in scholarship  -> interest_4\n",
            "    that public |  interest | in the          -> interest_1\n",
            "         to the | interests | of a            -> interest_4\n",
            "     a dividend |  interest | in hughes       -> interest_5\n",
            "     a dividend |  interest | in eds          -> interest_5\n",
            "payment including |  interest | to secured      -> interest_6\n",
            "    credits and |  interest | of about        -> interest_6\n",
            "   payments for |  interest | since then      -> interest_6\n",
            " accrued unpaid |  interest | equal to        -> interest_6\n",
            "\n",
            "\n",
            "Accuracy   0.885593220338983\n"
          ]
        }
      ],
      "source": [
        "# 問題１の解答\n",
        "\n",
        "from nltk.corpus import senseval\n",
        "\n",
        "def sense_features(instance):\n",
        "    features = {}\n",
        "    features[\"word-type\"] = instance.word\n",
        "    features[\"word-tag\"] = instance.context[instance.position][1]\n",
        "    features[\"prev-word\"] = instance.context[instance.position-1][0]\n",
        "    features[\"prev-word-tag\"] = instance.context[instance.position-1][1]\n",
        "    features[\"next-word\"] = instance.context[instance.position+1][0]\n",
        "    features[\"next-word-tag\"] = instance.context[instance.position+1][1]\n",
        "    return features\n",
        "\n",
        "# Sensevalコーパスをもとに学習用とテスト用データセットを作成する\n",
        "instances = senseval.instances('interest.pos')\n",
        "size = int(len(instances) * 0.1)\n",
        "train_set, test_set = instances[size:], instances[:size]\n",
        "\n",
        "# 各単語とそのコンテキスト情報、sense情報を出力する\n",
        "for i in train_set[:100]:\n",
        "    p = i.position\n",
        "    left = ' '.join(w for (w,t) in i.context[p-2:p])\n",
        "    word = ' '.join(w for (w,t) in i.context[p:p+1])\n",
        "    right = ' '.join(w for (w,t) in i.context[p+1:p+3])\n",
        "    senses = ' '.join(i.senses)\n",
        "    print ('%15s |%10s | %-15s -> %s' % (left, word, right, senses))\n",
        "\n",
        "# 学習用とテスト用のデータセットからfeatureを抽出して、それらをもとにデータセットを作り直す\n",
        "train_set = [(sense_features(instance), instance.senses) for instance in train_set]\n",
        "test_set = [(sense_features(instance), instance.senses) for instance in test_set]\n",
        "\n",
        "# 学習\n",
        "classifier = nltk.NaiveBayesClassifier.train(train_set)\n",
        "# テスト　認識精度を出力\n",
        "print(\"\\n\\nAccuracy   \" + str(nltk.classify.accuracy(classifier, test_set)))"
      ]
    },
    {
      "cell_type": "markdown",
      "source": [
        "##**Problem 2**\n",
        "###問題文\n",
        "\n",
        "The synonyms strong and powerful pattern differently (try combining them with chip and sales). What features are relevant in this distinction? Build a classifier that predicts when each word should be used.\n",
        "(Please make collocation word and its histogram, and make a bigram model classifier to use some corpus)"
      ],
      "metadata": {
        "id": "qvyVk-NJ506J"
      }
    },
    {
      "cell_type": "markdown",
      "source": [
        ""
      ],
      "metadata": {
        "id": "9ZHE31NLqiwi"
      }
    },
    {
      "cell_type": "markdown",
      "source": [
        "セル１の説明\n",
        "複数のコーパスをダウンロードした後、一つのデータセットに結合する。\n",
        "また、前処理として各単語を小文字化する。"
      ],
      "metadata": {
        "id": "fKdXrEOfqmyM"
      }
    },
    {
      "cell_type": "code",
      "source": [
        "# セル１\n",
        "import nltk\n",
        "from nltk.collocations import *\n",
        "nltk.download('genesis')\n",
        "nltk.download('brown')\n",
        "nltk.download('gutenberg')\n",
        "nltk.download('webtext')\n",
        "nltk.download('punkt')\n",
        "nltk.download('reuters')\n",
        "!unzip /root/nltk_data/corpora/reuters.zip -d /root/nltk_data/corpora/.\n",
        "import random\n",
        "\n",
        "dataset = nltk.corpus.brown.words() + nltk.corpus.gutenberg.words() + nltk.corpus.webtext.words() \\\n",
        "              + nltk.corpus.reuters.words() + nltk.corpus.genesis.words()\n",
        "dataset = [word.lower() for word in dataset]"
      ],
      "metadata": {
        "id": "aPMlDYYuv5Yn"
      },
      "execution_count": null,
      "outputs": []
    },
    {
      "cell_type": "markdown",
      "source": [
        "セル２と３の説明\n",
        "\n",
        "Bigramに対してコロケーションを求めるfinderを初期化する。\n",
        "finderを用いてそれぞれstrongとpowerfulを含むコロケーションだけを抽出するフィルターを適用する。"
      ],
      "metadata": {
        "id": "d_dBfjUkrRqc"
      }
    },
    {
      "cell_type": "code",
      "source": [
        "# セル２\n",
        "finder = BigramCollocationFinder.from_words(dataset)\n",
        "bigram_measures = nltk.collocations.BigramAssocMeasures()\n",
        "\n",
        "word_filter_strong = lambda w1, w2: 'strong' not in (w1, w2)\n",
        "finder.apply_ngram_filter(word_filter_strong)\n",
        "strong = finder.ngram_fd\n",
        "len_strong = len(strong.items())\n",
        "print(strong.items())"
      ],
      "metadata": {
        "colab": {
          "base_uri": "https://localhost:8080/"
        },
        "id": "rv7PlbsOT2gS",
        "outputId": "c4666358-a8f0-45d4-f849-7593f727ab37"
      },
      "execution_count": null,
      "outputs": [
        {
          "output_type": "stream",
          "name": "stdout",
          "text": [
            "dict_items([(('getting', 'strong'), 1), (('strong', 'encouragement'), 2), (('a', 'strong'), 208), (('strong', 'fight'), 1), (('strong', ','), 106), (('encounter', 'strong'), 1), (('strong', 'opposition'), 7), (('strong', 'arm'), 5), (('strong', 'advocate'), 1), (('carol', 'strong'), 1), (('by', 'strong'), 8), (('strong', 'executives'), 1), (('biblically', 'strong'), 1), (('strong', 'christianity'), 1), ((',', 'strong'), 52), (('strong', 'pressures'), 3), (('produced', 'strong'), 1), (('strong', 'reactions'), 1), (('felt', 'strong'), 2), (('strong', '.'), 40), (('strong', 'and'), 69), (('very', 'strong'), 39), (('strong', 'central'), 1), (('his', 'strong'), 16), (('into', 'strong'), 3), (('putting', 'strong'), 2), (('strong', 'pressure'), 3), (('so', 'strong'), 23), (('strong', 'that'), 5), (('two', 'strong'), 7), (('strong', 'dissents'), 1), (('become', 'strong'), 3), (('strong', 'enough'), 27), (('strong', 'conviction'), 1), (('strong', 'one'), 2), (('have', 'strong'), 5), (('strong', 'suspicions'), 1), (('is', 'strong'), 21), (('seems', 'strong'), 1), (('no', 'strong'), 2), (('strong', 'men'), 14), (('strong', 'literary'), 1), ((\"artists'\", 'strong'), 1), (('involve', 'strong'), 1), (('strong', 'potions'), 1), (('strong', 'performance'), 9), (('and', 'strong'), 61), (('strong', 'tone'), 1), (('was', 'strong'), 30), (('continue', 'strong'), 4), (('strong', 'long'), 1), (('strong', 'native'), 2), (('are', 'strong'), 9), (('strong', 'french'), 1), (('be', 'strong'), 52), (('strong', 'italian'), 1), (('strong', 'sense'), 5), (('of', 'strong'), 33), (('strong', 'listener'), 1), (('strong', 'voice'), 3), (('provided', 'strong'), 1), (('strong', 'contrast'), 2), (('strong', 'protest'), 2), (('as', 'strong'), 24), (('strong', 'as'), 22), (('strong', 'temperance'), 1), ((\"barcus'\", 'strong'), 1), (('strong', 'beliefs'), 1), ((\"aren't\", 'strong'), 1), (('real', 'strong'), 1), (('strong', 'transom'), 1), (('strong', 'after'), 1), (('from', 'strong'), 4), (('strong', 'winds'), 5), (('strong', '20th-century'), 1), (('strong', 'wave'), 1), (('were', 'strong'), 11), (('strong', 'professional'), 1), (('strong', 'credit'), 1), (('strong', 'oil'), 2), (('strong', 'straight'), 1), (('introduce', 'strong'), 1), (('strong', 'political'), 2), (('running', 'strong'), 1), (('in', 'strong'), 10), (('strong', 'soapy'), 1), (('applying', 'strong'), 1), (('strong', 'apple'), 1), (('strong', 'tea'), 1), (('strong', 'new'), 2), (('third', 'strong'), 1), (('has', 'strong'), 6), (('one', 'strong'), 3), (('strong', 'point'), 3), (('strong', 'military'), 2), (('what', 'strong'), 1), (('strong', 'convictions'), 1), (('strong', 'determination'), 2), (('strong', 'case'), 2), (('strong', 'to'), 7), (('the', 'strong'), 122), (('strong', 'feeling'), 5), (('.', 'strong'), 13), (('with', 'strong'), 18), (('strong', 'opinions'), 1), (('strong', 'national'), 2), (('strong', 'nationalist'), 1), (('this', 'strong'), 2), (('strong', 'upsurge'), 1), (('strong', 'compulsion'), 1), (('strong', 'look'), 1), (('strong', 'bulwark'), 1), (('overheard', 'strong'), 1), (('strong', 'sailorly'), 1), (('given', 'strong'), 1), (('strong', 'material'), 1), (('strong', 'a'), 8), (('strong', 'liking'), 1), (('had', 'strong'), 5), (('strong', 'support'), 2), (('claimed', 'strong'), 1), (('strong', 'influence'), 1), ((\"trevelyan's\", 'strong'), 1), (('strong', 'negative'), 2), (('strong', 'explanation'), 1), (('too', 'strong'), 23), (('strong', 'against'), 5), (('drink', 'strong'), 1), (('strong', 'wine'), 2), (('against', 'strong'), 1), (('strong', 'woman'), 2), (('only', 'strong'), 1), (('strong', 'because'), 3), (('strong', 'word'), 1), (('encountered', 'strong'), 1), (('strong', 'magnetic'), 1), (('strong', 'spectral'), 1), (('strong', 'financial'), 1), (('quite', 'strong'), 3), (('strong', 'demand'), 25), (('strong', 'in'), 19), (('sufficiently', 'strong'), 2), (('strong', 'recovery'), 4), (('appoints', 'strong'), 1), (('find', 'strong'), 1), (('strong', 'subordinates'), 1), (('strong', 'af'), 1), (('showed', 'strong'), 1), (('strong', 'activity'), 1), (('particularly', 'strong'), 9), (('strong', 'emotion'), 2), (('since', 'strong'), 1), (('strong', 'nociceptive'), 1), (('provide', 'strong'), 1), (('strong', 'incentives'), 1), (('strong', 'is'), 6), (('excessively', 'strong'), 1), (('strong', 'independent'), 1), (('not', 'strong'), 7), (('understanding', 'strong'), 1), (('strong', 'stress'), 11), (('garage', 'strong'), 1), ((\"sisters'\", 'strong'), 1), (('strong', 'stresses'), 2), (('sisters', 'strong'), 1), (('sometimes', 'strong'), 1), (('first', 'strong'), 1), (('strong', 'poland'), 1), (('strong', 'backing'), 1), (('``', 'strong'), 1), (('strong', 'hands'), 9), (('when', 'strong'), 1), (('strong', 'possibility'), 1), (('strong', 'geometric'), 1), (('strong', 'for'), 22), (('strong', 'adhesive'), 1), ((\"foam's\", 'strong'), 1), (('strong', 'features'), 2), (('those', 'strong'), 2), (('strong', 'emotions'), 1), (('strong', 'nose'), 2), (('but', 'strong'), 3), (('yet', 'strong'), 3), (('strong', 'even'), 1), (('strong', ';'), 17), (('good', 'strong'), 2), (('strong', 'signals'), 4), (('strong', 'push'), 1), (('near', 'strong'), 1), (('astonishingly', 'strong'), 1), (('he', 'strong'), 1), ((\"i'm\", 'strong'), 1), (('strong', 'position'), 4), (('truly', 'strong'), 1), (('strong', 'hints'), 1), (('some', 'strong'), 1), (('strong', 'branches'), 2), (('between', 'strong'), 1), (('strong', 'jaws'), 1), (('strong', 'on'), 4), (('strong', 'light'), 4), (('strong', 'physical'), 1), (('immensely', 'strong'), 1), (('strong', 'home-blend'), 1), ((\"isn't\", 'strong'), 2), (('strong', 'too'), 1), (('strong', 'hand'), 14), (('going', 'strong'), 1), (('brave', 'strong'), 2), (('strong', 'delights'), 1), (('without', 'strong'), 1), (('strong', 'hopes'), 2), (('strong', 'passion'), 1), (('strong', 'understanding'), 3), (('strong', 'habit'), 1), (('strong', 'expectation'), 1), (('strong', 'feelings'), 6), (('strong', 'domestic'), 5), (('strong', '?\"'), 1), (('strong', 'displeasure'), 1), (('strong', 'drifting'), 1), (('strong', 'effort'), 2), (('strong', 'eyes'), 2), (('him', 'strong'), 1), (('taken', 'strong'), 1), (('strong', 'possession'), 1), (('strong', 'proof'), 2), (('strong', 'it'), 1), (('strong', '.\\'\"'), 1), (('strong', 'notion'), 1), (('strong', 'an'), 2), (('strong', 'attachment'), 3), (('strong', '--'), 1), (('certainly', 'strong'), 1), (('strong', 'persuasion'), 2), (('strong', 'attraction'), 1), (('strong', 'was'), 2), (('whose', 'strong'), 2), (('strong', 'family'), 3), (('strong', 'attachments'), 1), (('strong', 'grounds'), 1), (('strong', 'inclination'), 1), (('strong', 'mind'), 1), (('strong', 'impression'), 3), (('itself', 'strong'), 1), (('strong', 'claims'), 1), (('strong', 'sensibility'), 2), (('strong', 'surprise'), 2), (('been', 'strong'), 3), (('strong', 'disgust'), 1), (('otherwise', 'strong'), 1), (('strong', 'felicity'), 1), (('strong', 'caricature'), 1), (('strong', 'affection'), 1), (('strong', 'affections'), 1), (('strong', 'resemblance'), 1), (('strong', 'emphasis'), 1), (('that', 'strong'), 5), (('strong', 'anxiety'), 1), (('strong', 'characters'), 1), (('strong', 'impulse'), 1), (('seem', 'strong'), 1), (('her', 'strong'), 2), (('strong', 'desire'), 7), (('strong', 'concern'), 1), (('to', 'strong'), 8), (('strong', 'esteem'), 1), (('which', 'strong'), 1), (('strong', 'ass'), 2), (('made', 'strong'), 6), (('strong', 'by'), 2), (('mighty', 'strong'), 1), (('strong', 'west'), 1), (('strong', 'east'), 1), (('nor', 'strong'), 6), (('strong', 'drink'), 22), (('strong', 'or'), 2), (('strong', 'holds'), 19), (('for', 'strong'), 5), (('or', 'strong'), 2), (('thou', 'strong'), 2), (('strong', 'this'), 1), (('waxen', 'strong'), 1), (('strong', 'city'), 8), (('strong', ':'), 10), (('strong', 'tower'), 3), (('strong', 'came'), 1), (('any', 'strong'), 3), (('strong', 'man'), 9), (('himself', 'strong'), 2), (('strong', 'hold'), 9), (('more', 'strong'), 2), (('my', 'strong'), 6), (('strong', 'enemy'), 2), (('strong', 'therefore'), 2), (('thy', 'strong'), 9), (('strong', 'wind'), 3), (('fifty', 'strong'), 1), (('their', 'strong'), 5), (('exceeding', 'strong'), 1), (('solomon', 'strong'), 1), (('ye', 'strong'), 2), (('took', 'strong'), 1), (('strong', 'cities'), 2), (('strong', 'pain'), 1), (('strong', 'place'), 1), (('strong', 'pieces'), 1), (('strong', 'ones'), 2), ((':', 'strong'), 2), (('strong', 'bulls'), 1), (('lord', 'strong'), 1), (('stand', 'strong'), 1), (('strong', 'rock'), 1), (('strong', 'habitation'), 1), (('strong', 'refuge'), 1), (('madest', 'strong'), 2), (('strong', 'lord'), 1), (('many', 'strong'), 1), (('strong', 'confidence'), 1), (('bosom', 'strong'), 1), (('strong', 'wrath'), 1), (('princes', 'strong'), 1), (('give', 'strong'), 1), (('strong', 'shall'), 2), (('follow', 'strong'), 1), (('mingle', 'strong'), 1), ((';', 'strong'), 1), (('strong', 'people'), 2), (('strong', 'sword'), 2), (('through', 'strong'), 3), (('your', 'strong'), 2), (('strong', 'reasons'), 2), (('strong', 'nation'), 2), (('strong', 'horses'), 1), (('strong', 'staff'), 1), (('watch', 'strong'), 1), (('face', 'strong'), 1), (('forehead', 'strong'), 1), (('strong', 'upon'), 2), (('strong', 'rods'), 2), (('strong', 'rod'), 1), (('strong', 'garrisons'), 1), (('wast', 'strong'), 1), (('it', 'strong'), 1), (('strong', 'among'), 1), (('partly', 'strong'), 1), (('strong', 'exceedingly'), 1), (('strong', 'above'), 1), (('strong', 'with'), 4), (('most', 'strong'), 2), (('am', 'strong'), 1), (('rebuke', 'strong'), 1), (('strong', 'nations'), 2), (('strong', 'foundations'), 1), (('loins', 'strong'), 1), (('make', 'strong'), 2), (('strong', 'the'), 3), (('every', 'strong'), 1), (('waxed', 'strong'), 2), (('man', 'strong'), 1), (('strong', 'ought'), 1), (('i', 'strong'), 1), (('them', 'strong'), 1), (('strong', 'delusion'), 1), (('strong', 'crying'), 1), (('strong', 'meat'), 2), (('strong', 'consolation'), 1), (('strong', 'angel'), 1), (('strong', 'rope'), 1), (('strong', 'mr'), 1), (('how', 'strong'), 1), (('strong', 'they'), 1), (('remained', 'strong'), 6), (('strong', 'iron'), 1), (('strong', 'my'), 1), (('strong', 'white'), 1), (('strong', 'rake'), 1), (('gets', 'strong'), 1), (('strong', 'little'), 1), (('strong', 'grinding'), 1), (('both', 'strong'), 1), (('strong', 'young'), 2), (('strong', 'fellow'), 1), (('strong', 'here'), 1), (('strong', 'views'), 1), (('strong', 'blue'), 2), (('strong', 'silence'), 1), (('under', 'strong'), 2), (('strong', 'bodily'), 1), (('strong', 'water'), 1), (('strong', 'smelling'), 1), (('strong', 'soft'), 1), (('strong', 'moonlight'), 1), (('strong', 'gun'), 1), (('strong', 'elephant'), 1), (('strong', 'army'), 1), (('strong', 'argyllshire'), 1), (('ghastly', 'strong'), 1), (('strong', ',\"'), 6), (('strong', 'evening'), 1), (('strong', 'shoulder'), 1), (('strong', 'waters'), 1), (('strong', '-'), 6), (('three', 'strong'), 1), (('strong', 'summer'), 1), (('strong', 'dead'), 3), (('strong', 'but'), 1), (('still', 'strong'), 3), (('strong', 'sunlight'), 2), (('strong', 'glow'), 1), (('suddenly', 'strong'), 1), (('strong', 'sun'), 1), (('hundred', 'strong'), 1), (('strong', 'stars'), 1), (('m', 'strong'), 1), (('strong', 'smell'), 1), (('now', 'strong'), 1), (('strong', 'box'), 1), (('strong', 'minds'), 1), (('strong', 'expressions'), 1), (('-', 'strong'), 6), (('strong', 'moral'), 1), (('strong', 'decoction'), 1), (('exhibiting', 'strong'), 1), (('strong', 'symptoms'), 1), (('strong', 'intuitions'), 1), (('strong', 'suspicion'), 1), (('strong', 'arms'), 2), (('strong', 'repugnance'), 1), (('strong', 'vapour'), 1), (('fed', 'strong'), 1), (('(', 'strong'), 2), (('pull', 'strong'), 1), (('us', 'strong'), 1), (('strong', 'news'), 1), (('strong', 'stroke'), 1), (('unusually', 'strong'), 1), (('strong', 'line'), 1), (('strong', 'individual'), 1), (('strong', 'strip'), 1), (('contained', 'strong'), 1), (('strong', 'spirits'), 1), (('prison', 'strong'), 1), (('strong', 'rebuff'), 1), (('barricadoed', 'strong'), 1), (('inducement', 'strong'), 1), (('danite', 'strong'), 1), (('inclination', 'strong'), 1), (('strong', '!'), 1), (('city', 'strong'), 1), (('strong', 'lay'), 1), (('worldly', 'strong'), 1), (('strong', 'linkes'), 1), (('strong', 'proofe'), 1), (('strong', 'vpon'), 1), (('strong', 'then'), 1), (('epicurus', 'strong'), 1), (('strong', 'intent'), 1), (('strong', 'law'), 1), (('strong', 'both'), 1), (('our', 'strong'), 1), (('strong', 'sorrow'), 1), (('strong', 'themselues'), 1), (('strong', 'knots'), 1), (('strong', 'melodious'), 1), (('music', 'strong'), 1), (('strong', 'i'), 3), (('strong', 'scent'), 1), (('strong', 'upright'), 1), (('strong', 'sweet'), 1), (('strong', 'shoulders'), 1), (('strong', 'set'), 1), ((',)', 'strong'), 1), (('strong', 'legends'), 1), (('strong', 'divine'), 1), (('you', 'strong'), 2), (('strong', 'curbs'), 1), (('strong', 'shadow'), 1), (('strong', 'carouse'), 1), (('strong', 'shapes'), 2), (('strong', 'day'), 1), (('strong', 'command'), 1), (('strong', 'being'), 2), (('strong', 'naked'), 1), (('s', 'strong'), 10), (('strong', 'joys'), 1), (('strong', 'clean'), 1), (('strong', 'life'), 1), (('strong', 'you'), 1), (('immortal', 'strong'), 1), (('strong', 'nutriment'), 1), (('thousand', 'strong'), 2), (('strong', 'heart'), 1), (('strong', 'voices'), 1), (('o', 'strong'), 1), (('strong', 'terrific'), 1), (('perfume', 'strong'), 2), (('rising', 'strong'), 1), (('approach', 'strong'), 1), (('strong', 'deliveress'), 1), (('strong', 'kept'), 1), (('strong', '?'), 1), (('strong', 'waves'), 1), (('strong', 'arenas'), 1), (('own', 'strong'), 1), (('strong', 'artists'), 1), (('strong', 'hum'), 1), (('strong', 'base'), 1), (('strong', 'hymn'), 1), (('strong', 'mountains'), 1), (('strong', 'thoughts'), 1), (('strong', 'bird'), 1), (('on', 'strong'), 6), (('strong', 'legs'), 1), (('soldier', 'strong'), 1), (('strong', 'trunks'), 1), (('strong', 'chords'), 1), (('strong', 'frame'), 1), (('strong', 'tonight'), 1), (('ridiculously', 'strong'), 1), (('strong', 'thighs'), 1), (('strong', 'immune'), 1), (('less', 'strong'), 1), (('strong', 'all'), 1), (('****', 'strong'), 1), (('reveal', 'strong'), 1), (('strong', 'high'), 1), (('**(*)', 'strong'), 1), (('strong', 'palate'), 1), (('strong', 'workforce'), 5), (('strong', 'month'), 1), (('looks', 'strong'), 1), (('generally', 'strong'), 1), (('strong', 'outlook'), 1), (('strong', 'u'), 6), (('strong', 'results'), 4), (('continued', 'strong'), 8), (('strong', 'performances'), 1), (('its', 'strong'), 7), (('strong', 'quarter'), 1), (('strong', 'earnings'), 8), (('strong', 'increases'), 2), (('strong', 'implementation'), 2), (('overly', 'strong'), 1), (('strong', 'monetary'), 4), (('such', 'strong'), 1), (('strong', 'personal'), 1), (('strong', 'representations'), 2), (('strong', 'orders'), 1), (('\"', 'strong'), 3), (('strong', 'yen'), 19), (('following', 'strong'), 2), (('strong', 'gains'), 4), (('strong', 'from'), 1), (('strong', 'currencies'), 4), (('recent', 'strong'), 3), (('strong', 'rise'), 7), (('strong', 'presence'), 3), (('new', 'strong'), 1), (('strong', 'surge'), 1), (('strong', '1977'), 1), (('strong', 'negotiating'), 1), (('strong', 'revenue'), 1), (('appear', 'strong'), 1), (('strong', 'mainframe'), 1), (('strong', 'guilder'), 2), (('strong', 'comeback'), 1), (('strong', 'upswing'), 1), (('strong', 'upturn'), 1), (('strong', 'international'), 1), (('strong', 'step'), 1), (('strong', 'buyers'), 1), (('strong', 'pound'), 1), (('strong', 'ethnic'), 1), (('basis', 'strong'), 1), (('strong', 'credibility'), 1), (('strong', 'start'), 3), (('countries', 'strong'), 1), (('strong', 'stance'), 1), (('strong', 'stand'), 1), (('continuing', 'strong'), 4), (('growth', 'strong'), 1), (('strong', 'growth'), 10), (('remain', 'strong'), 3), (('reflecting', 'strong'), 2), (('achieved', 'strong'), 1), (('strong', 'sales'), 5), (('market', 'strong'), 1), (('prices', 'strong'), 2), (('strong', 'ahead'), 1), (('strong', 'dollar'), 3), (('ease', 'strong'), 1), (('strong', 'upward'), 1), (('said', 'strong'), 2), (('remains', 'strong'), 2), (('strong', 'economic'), 1), (('further', 'strong'), 1), (('strong', 'speculative'), 1), (('currently', 'strong'), 1), (('strong', 'protectionist'), 2), (('strong', 'reservations'), 3), (('voiced', 'strong'), 2), (('strong', 'objections'), 1), (('strong', 'show'), 1), (('strong', 'affirmation'), 1), (('sees', 'strong'), 11), (('strong', 'fourth'), 1), (('strong', 'full'), 1), (('strong', 'selling'), 1), (('strong', 'rebound'), 1), (('taking', 'strong'), 1), (('strong', 'organic'), 1), (('strong', 'economy'), 1), (('strong', 'revenues'), 1), (('strong', '1st'), 2), (('cited', 'strong'), 1), (('saw', 'strong'), 2), (('strong', 'investor'), 1), (('believes', 'strong'), 1), (('strong', 'margins'), 1), (('strong', 'profit'), 4), (('strong', 'asset'), 1), (('strong', 'foreign'), 2), (('strong', 'recently'), 1), (('strong', 'market'), 5), (('strong', 'warning'), 1), (('strong', 'links'), 1), (('strong', 'following'), 1), (('preferring', 'strong'), 1), (('strong', 'medicine'), 1), (('expressed', 'strong'), 1), (('gary', 'strong'), 1), (('strong', 'said'), 3), (('strong', 'turn'), 1), (('strong', 'second'), 1), (('expects', 'strong'), 1), (('strong', 'mortgage'), 1), (('strong', 'chance'), 1), (('strong', 'barge'), 2), (('strong', 'pace'), 2), (('strong', 'argument'), 1), (('meet', 'strong'), 1), (('strong', 'under'), 2), (('strong', 'defenses'), 1), (('foresees', 'strong'), 1), (('forsees', 'strong'), 1), (('strong', 'exports'), 1), (('strong', 'advance'), 1), (('strong', 'overseas'), 1), (('strong', 'operating'), 1), (('strong', 'promotional'), 1), (('strong', 'focus'), 1), (('oil', 'strong'), 1), (('strong', 'incentive'), 2), (('posted', 'strong'), 1), (('strong', '4th'), 2), (('strong', 'contender'), 1), (('strong', 'resistance'), 1), (('strong', 'reception'), 1), (('strong', 'buy'), 1), (('terminal', 'strong'), 2), (('latest', 'strong'), 1), (('strong', 'signal'), 1), (('inhibited', 'strong'), 1), (('strong', 'rises'), 1), (('existing', 'strong'), 1), (('strong', 'points'), 1), (('strong', 'performers'), 1), (('strong', 'contribution'), 2), (('especially', 'strong'), 2), (('strong', 'catalog'), 1), (('consistently', 'strong'), 1), (('strong', 'throughout'), 1), (('strong', 'cash'), 6), (('strong', 'quarterly'), 1), (('equally', 'strong'), 1), (('strong', '1987'), 1), (('another', 'strong'), 2), (('strong', 'year'), 1), (('strong', 'five'), 1), (('strong', 'fluctuations'), 1), (('strong', '.\"'), 2), (('strong', 'interest'), 3), (('currency', 'strong'), 1), (('strong', 'opponent'), 1), (('strong', 'earthquake'), 1), (('strong', 'bargain'), 1), (('000', 'strong'), 2), (('strong', 'sterling'), 2), (('strong', '\"'), 4), (('strong', 'act'), 1), (('being', 'strong'), 1), (('enjoyed', 'strong'), 1), (('strong', 'world'), 2), (('while', 'strong'), 1), (('strong', 'underlying'), 1), (('strong', 'while'), 1), (('strong', 'basic'), 1), (('strong', '6'), 3), (('expressing', 'strong'), 1), (('expecting', 'strong'), 2), (('strong', 'numbers'), 1), (('faced', 'strong'), 1), (('strong', 'competition'), 1), (('strong', '35'), 1), (('strong', 'regional'), 1), (('strong', 'residential'), 1), (('strong', 'employment'), 1), (('strong', 'last'), 1), (('recently', 'strong'), 1), (('sending', 'strong'), 1), (('relatively', 'strong'), 1), (('provoked', 'strong'), 1), (('strong', 'protests'), 1), (('cites', 'strong'), 1), (('strong', 'prospects'), 1), (('after', 'strong'), 1), (('strong', 'attacks'), 1), (('sparked', 'strong'), 1), (('strong', 'performer'), 1), (('strong', 'marketings'), 1), (('strong', 'daily'), 1), (('surprisingly', 'strong'), 1), (('strong', 'sentiment'), 1), (('strong', 'money'), 1), (('reduce', 'strong'), 1), (('take', 'strong'), 1), (('strong', 'retaliatory'), 1), (('reports', 'strong'), 1), (('dollar', 'strong'), 1), (('strong', 'increase'), 1), (('strong', 'gain'), 1), (('seen', 'strong'), 1), (('despite', 'strong'), 1), (('expected', 'strong'), 1), (('...', 'strong'), 1), (('strong', 'backlog'), 1), (('strong', 'shipment'), 1), (('ice', 'strong'), 1), (('strong', 'south'), 1), (('strong', 'despite'), 1), (('strong', 'counterpoint'), 1), (('extremely', 'strong'), 4), (('met', 'strong'), 2), (('strong', 'end'), 2), (('strong', 'response'), 5), (('strong', 'commitment'), 1), (('strong', 'traffic'), 1), (('post', 'strong'), 1), (('strong', 'slew'), 1), (('strong', 'trade'), 1), (('strong', 'local'), 1), (('strong', 'rationale'), 2), (('financially', 'strong'), 1), (('strong', 'balance'), 1), (('strong', 'gusty'), 1), (('faces', 'strong'), 1), (('strong', 'unit'), 1), (('strong', 'export'), 1), (('strong', 'rumors'), 1), (('stem', 'strong'), 1), (('mln', 'strong'), 1), (('strong', 'regular'), 1), (('strong', 'turnover'), 1), (('current', 'strong'), 2), (('operationally', 'strong'), 1), (('strong', 'donkey'), 1)])\n"
          ]
        }
      ]
    },
    {
      "cell_type": "code",
      "source": [
        "# セル３\n",
        "finder = BigramCollocationFinder.from_words(dataset)\n",
        "bigram_measures = nltk.collocations.BigramAssocMeasures()\n",
        "\n",
        "word_filter_powerful = lambda w1, w2: 'powerful' not in (w1, w2)\n",
        "finder.apply_ngram_filter(word_filter_powerful)\n",
        "powerful = finder.ngram_fd\n",
        "len_powerful = len(powerful.items())\n",
        "print(powerful.items())"
      ],
      "metadata": {
        "colab": {
          "base_uri": "https://localhost:8080/"
        },
        "id": "GLTXtd6NwheY",
        "outputId": "94728c76-82af-44ea-b965-dca56d8ec823"
      },
      "execution_count": null,
      "outputs": [
        {
          "output_type": "stream",
          "name": "stdout",
          "text": [
            "dict_items([(('the', 'powerful'), 15), (('powerful', 'new'), 2), (('a', 'powerful'), 27), (('powerful', 'transmitter'), 1), (('powerful', ','), 13), (('most', 'powerful'), 12), (('powerful', 'man'), 1), (('powerful', 'central'), 2), ((',', 'powerful'), 5), (('powerful', 'nations'), 1), (('one', 'powerful'), 1), (('powerful', 'nation'), 1), (('and', 'powerful'), 14), (('powerful', 'mirror'), 1), (('more', 'powerful'), 13), (('powerful', 'than'), 5), (('powerful', 'efforts'), 1), (('powerful', 'weapon'), 1), (('powerful', 'glasses'), 1), (('supremely', 'powerful'), 1), (('powerful', 'divine'), 1), (('no', 'powerful'), 1), (('powerful', 'otherworldly'), 1), (('powerful', 'victory'), 1), (('powerful', 'engines'), 2), (('of', 'powerful'), 5), (('powerful', 'music'), 1), (('them', 'powerful'), 1), (('powerful', 'visual'), 1), (('swift', 'powerful'), 1), (('powerful', 'act'), 1), (('powerful', 'greek'), 1), (('powerful', 'or'), 1), (('powerful', 'and'), 9), (('this', 'powerful'), 2), (('powerful', 'indictment'), 1), (('other', 'powerful'), 1), (('powerful', 'congressmen'), 1), (('powerful', 'influence'), 2), (('powerful', 'opposition'), 1), (('powerful', 'orwell'), 1), (('another', 'powerful'), 1), (('powerful', 'factor'), 1), (('several', 'powerful'), 1), (('powerful', 'civilizations'), 1), (('powerful', 'sense'), 1), (('so', 'powerful'), 2), (('powerful', 'in'), 3), (('be', 'powerful'), 2), (('powerful', 'enough'), 4), (('powerful', 'bond'), 1), (('powerful', 'aid'), 1), (('unmanageably', 'powerful'), 1), (('powerful', 'introject'), 1), (('powerful', 'bulwark'), 1), (('any', 'powerful'), 1), (('powerful', 'sources'), 1), (('powerful', 'force'), 1), (('powerful', 'union'), 2), (('less', 'powerful'), 1), (('powerful', 'societies'), 1), (('powerful', 'requires'), 1), (('powerful', 'democratic'), 1), (('powerful', 'gray'), 1), (('powerful', 'microphone'), 1), (('powerful', 'arms'), 2), (('.', 'powerful'), 3), (('powerful', 'hands'), 2), (('powerful', 'body'), 1), (('call', 'powerful'), 1), (('powerful', 'that'), 1), (('his', 'powerful'), 5), (('powerful', 'streams'), 1), (('very', 'powerful'), 2), (('powerful', 'of'), 1), (('single', 'powerful'), 1), (('powerful', 'jab'), 1), (('powerful', '.'), 3), (('powerful', 'representative'), 1), (('powerful', 'like'), 1), (('too', 'powerful'), 2), (('powerful', 'operation'), 1), (('s', 'powerful'), 2), (('remained', 'powerful'), 1), (('her', 'powerful'), 1), (('powerful', 'whisper'), 1), (('what', 'powerful'), 1), (('powerful', 'supports'), 1), (('powerful', 'consolation'), 1), (('powerful', 'protection'), 1), (('is', 'powerful'), 2), (('powerful', ';'), 2), (('powerful', '.\"'), 1), (('powerful', 'good'), 1), (('powerful', 'prince'), 1), (('or', 'powerful'), 1), (('powerful', 'hurry'), 1), (('powerful', 'systems'), 1), (('unusually', 'powerful'), 1), (('as', 'powerful'), 1), (('powerful', 'as'), 1), (('apparently', 'powerful'), 1), (('powerful', 'count'), 1), (('but', 'powerful'), 1), (('powerful', 'policeman'), 1), (('powerful', 'skull'), 1), (('powerful', 'piece'), 1), (('powerful', 'traitors'), 1), (('powerful', 'heresiarchs'), 1), (('these', 'powerful'), 1), (('over', 'powerful'), 2), (('powerful', 'beasts'), 1), (('powerful', 'errors'), 1), (('powerful', 'enemies'), 1), (('powerful', 'temptation'), 1), (('powerful', 'argument'), 1), (('powerful', 'rival'), 1), (('powerful', 'grasp'), 1), (('powerful', 'motive'), 1), (('powerful', 'incentive'), 1), (('powerful', 'unbroken'), 1), (('sufficiently', 'powerful'), 1), (('commonly', 'powerful'), 1), (('powerful', 'key'), 1), (('-', 'powerful'), 1), (('powerful', 'king'), 1), (('their', 'powerful'), 2), (('powerful', 'art'), 1), (('powerful', 'destiny'), 1), (('powerful', 'word'), 1), (('powerful', 'glance'), 1), (('powerful', 'persuaders'), 1), (('powerful', 'at'), 1), (('once', 'powerful'), 1), (('powerful', 'conqueror'), 1), (('inhabit', 'powerful'), 1), (('powerful', 'matrons'), 1), (('powerful', 'play'), 1), (('powerful', '!)'), 1), (('powerful', 'throbs'), 1), (('o', 'powerful'), 2), (('powerful', 'western'), 1), (('that', 'powerful'), 1), (('powerful', 'psalm'), 1), (('powerful', 'yet'), 1), (('are', 'powerful'), 1), (('with', 'powerful'), 2), (('powerful', 'uneducated'), 1), (('powerful', 'fortress'), 1), ((').', 'powerful'), 1), (('powerful', 'wine'), 1), (('quite', 'powerful'), 1), (('powerful', 'political'), 2), (('powerful', 'agricultural'), 1), (('powerful', '('), 1), (('powerful', 'producer'), 1), (('powerful', 'company'), 1), (('by', 'powerful'), 1), (('powerful', 'to'), 1), (('to', 'powerful'), 1), (('powerful', 'stimulative'), 1), (('powerful', 'role'), 1), (('powerful', 'chairman'), 1), (('powerful', 'icebreaker'), 1), (('powerful', 'chinese'), 1), (('powerful', 'business'), 1), (('powerful', 'winter'), 1)])\n"
          ]
        }
      ]
    },
    {
      "cell_type": "markdown",
      "source": [
        "セル４の説明\n",
        "\n",
        "powerfulを含むコロケーションのディクショナリとstrongを含むコロケーションのディクショナリをリストとして統合する。\n",
        "その後、作成したリストをシャッフルする。"
      ],
      "metadata": {
        "id": "LgoQgwi7r6mW"
      }
    },
    {
      "cell_type": "code",
      "source": [
        "# セル４\n",
        "dataset = list(strong.items()) + list(powerful.items())\n",
        "dataset = [item for item in dataset if item[1] <= 10]\n",
        "random.shuffle(dataset)\n",
        "print(dataset)"
      ],
      "metadata": {
        "colab": {
          "base_uri": "https://localhost:8080/"
        },
        "id": "zpHhZl5fUQkn",
        "outputId": "30a7c832-81c8-40ce-9637-119e82f365a5"
      },
      "execution_count": null,
      "outputs": [
        {
          "output_type": "stream",
          "name": "stdout",
          "text": [
            "[(('strong', '6'), 3), (('immortal', 'strong'), 1), (('one', 'strong'), 3), (('strong', 'cash'), 6), (('strong', 'vapour'), 1), (('thy', 'strong'), 9), (('strong', 'jaws'), 1), (('immensely', 'strong'), 1), (('strong', 'oil'), 2), (('\"', 'strong'), 3), (('strong', 'poland'), 1), (('but', 'strong'), 3), (('strong', 'intuitions'), 1), (('strong', 'basic'), 1), (('powerful', 'jab'), 1), (('princes', 'strong'), 1), (('strong', 'home-blend'), 1), (('carol', 'strong'), 1), (('after', 'strong'), 1), (('strong', 'sunlight'), 2), (('strong', 'growth'), 10), (('strong', 'pressures'), 3), (('strong', 'geometric'), 1), (('danite', 'strong'), 1), (('strong', 'they'), 1), (('strong', 'results'), 4), (('without', 'strong'), 1), (('powerful', 'protection'), 1), (('strong', '--'), 1), (('strong', 'economic'), 1), (('strong', 'features'), 2), (('strong', 'military'), 2), (('strong', 'refuge'), 1), (('strong', 'views'), 1), (('strong', 'focus'), 1), (('strong', 'resistance'), 1), (('seem', 'strong'), 1), (('many', 'strong'), 1), (('strong', 'links'), 1), (('strong', 'trunks'), 1), (('powerful', 'gray'), 1), (('strong', 'new'), 2), (('strong', 'felicity'), 1), (('strong', 'immune'), 1), (('strong', 'passion'), 1), (('stem', 'strong'), 1), (('no', 'powerful'), 1), (('powerful', 'heresiarchs'), 1), (('lord', 'strong'), 1), (('strong', 'evening'), 1), (('supremely', 'powerful'), 1), (('strong', 'south'), 1), (('strong', 'upsurge'), 1), (('strong', 'life'), 1), (('strong', 'white'), 1), (('strong', 'family'), 3), (('strong', 'emotions'), 1), (('met', 'strong'), 2), (('through', 'strong'), 3), (('when', 'strong'), 1), (('running', 'strong'), 1), (('strong', 'trade'), 1), (('powerful', 'uneducated'), 1), (('strong', 'sword'), 2), (('strong', 'arenas'), 1), (('strong', 'rake'), 1), (('inhibited', 'strong'), 1), (('strong', 'backing'), 1), (('strong', 'bird'), 1), (('strong', 'here'), 1), (('my', 'strong'), 6), (('o', 'strong'), 1), (('be', 'powerful'), 2), (('strong', 'rock'), 1), (('powerful', 'key'), 1), (('strong', 'representations'), 2), (('strong', '1977'), 1), (('had', 'strong'), 5), (('strong', ':'), 10), (('****', 'strong'), 1), (('strong', 'pound'), 1), (('recent', 'strong'), 3), (('strong', 'shall'), 2), (('strong', 'scent'), 1), (('expecting', 'strong'), 2), (('powerful', 'sources'), 1), (('these', 'powerful'), 1), (('powerful', 'count'), 1), (('powerful', 'mirror'), 1), (('gary', 'strong'), 1), (('looks', 'strong'), 1), (('any', 'strong'), 3), (('strong', 'wave'), 1), (('strong', 'sailorly'), 1), (('reveal', 'strong'), 1), (('strong', 'following'), 1), (('strong', 'opposition'), 7), (('strong', 'end'), 2), (('o', 'powerful'), 2), (('strong', 'signals'), 4), (('strong', 'speculative'), 1), (('waxed', 'strong'), 2), (('hundred', 'strong'), 1), (('sometimes', 'strong'), 1), (('strong', 'contribution'), 2), (('strong', 'compulsion'), 1), (('strong', 'characters'), 1), (('strong', 'second'), 1), (('strong', 'even'), 1), (('strong', 'convictions'), 1), (('are', 'powerful'), 1), (('continue', 'strong'), 4), (('strong', 'month'), 1), (('strong', 'grinding'), 1), (('those', 'strong'), 2), (('strong', 'high'), 1), (('city', 'strong'), 1), (('strong', 'currencies'), 4), (('strong', 'impulse'), 1), (('watch', 'strong'), 1), (('your', 'strong'), 2), (('contained', 'strong'), 1), (('strong', 'above'), 1), (('strong', 'resemblance'), 1), (('strong', 'divine'), 1), (('overly', 'strong'), 1), (('strong', 'rebuff'), 1), (('strong', 'exceedingly'), 1), (('several', 'powerful'), 1), (('strong', 'elephant'), 1), (('strong', 'opponent'), 1), (('strong', 'margins'), 1), (('powerful', 'victory'), 1), (('strong', 'encouragement'), 2), (('strong', 'notion'), 1), (('powerful', 'winter'), 1), (('powerful', 'union'), 2), (('strong', 'recovery'), 4), (('strong', 'drifting'), 1), (('faces', 'strong'), 1), (('strong', 'promotional'), 1), (('expressed', 'strong'), 1), (('strong', 'buyers'), 1), (('strong', 'consolation'), 1), (('strong', 'decoction'), 1), (('powerful', 'civilizations'), 1), (('bosom', 'strong'), 1), (('good', 'strong'), 2), (('strong', 'lord'), 1), (('strong', 'literary'), 1), (('powerful', 'policeman'), 1), (('powerful', '!)'), 1), (('strong', 'light'), 4), (('powerful', 'matrons'), 1), (('wast', 'strong'), 1), (('cited', 'strong'), 1), (('strong', 'persuasion'), 2), (('strong', 'despite'), 1), (('strong', 'effort'), 2), (('strong', 'summer'), 1), (('strong', 'residential'), 1), (('strong', 'command'), 1), (('strong', 'stroke'), 1), (('prison', 'strong'), 1), (('equally', 'strong'), 1), (('prices', 'strong'), 2), (('am', 'strong'), 1), (('strong', ',\"'), 6), (('how', 'strong'), 1), (('strong', 'fight'), 1), (('strong', 'attachments'), 1), (('powerful', 'whisper'), 1), (('strong', 'investor'), 1), (('strong', 'point'), 3), (('strong', 'dissents'), 1), (('strong', 'buy'), 1), (('powerful', 'prince'), 1), (('strong', 'orders'), 1), (('us', 'strong'), 1), (('strong', 'thighs'), 1), (('appoints', 'strong'), 1), (('brave', 'strong'), 2), (('strong', 'independent'), 1), (('powerful', 'influence'), 2), (('given', 'strong'), 1), (('strong', 'contender'), 1), (('strong', 'counterpoint'), 1), (('strong', 'my'), 1), (('powerful', 'persuaders'), 1), (('her', 'strong'), 2), (('strong', 'stresses'), 2), (('made', 'strong'), 6), (('strong', 'minds'), 1), (('powerful', 'chairman'), 1), (('strong', 'upward'), 1), (('powerful', 'hands'), 2), (('strong', 'position'), 4), (('powerful', 'king'), 1), (('powerful', 'arms'), 2), (('strong', 'stars'), 1), (('strong', 'asset'), 1), (('strong', 'foreign'), 2), (('strong', 'personal'), 1), (('own', 'strong'), 1), (('powerful', 'otherworldly'), 1), (('powerful', 'aid'), 1), (('strong', 'mr'), 1), (('powerful', 'indictment'), 1), (('strong', 'interest'), 3), (('strong', 'executives'), 1), (('strong', 'habitation'), 1), (('strong', 'act'), 1), (('strong', 'word'), 1), (('new', 'strong'), 1), (('strong', 'chance'), 1), (('strong', 'to'), 7), (('mln', 'strong'), 1), (('strong', 'throughout'), 1), (('strong', 'individual'), 1), (('surprisingly', 'strong'), 1), (('powerful', 'as'), 1), (('every', 'strong'), 1), (('worldly', 'strong'), 1), (('is', 'powerful'), 2), (('strong', 'rod'), 1), (('strong', 'revenue'), 1), (('strong', 'year'), 1), (('over', 'powerful'), 2), (('suddenly', 'strong'), 1), (('powerful', 'grasp'), 1), (('strong', 'affections'), 1), (('drink', 'strong'), 1), (('strong', 'all'), 1), (('of', 'powerful'), 5), (('powerful', 'weapon'), 1), (('strong', 'gusty'), 1), (('extremely', 'strong'), 4), (('strong', 'step'), 1), (('strong', 'surge'), 1), (('their', 'powerful'), 2), (('strong', 'rise'), 7), (('powerful', 'word'), 1), ((\"i'm\", 'strong'), 1), (('strong', 'organic'), 1), (('strong', 'money'), 1), (('strong', 'u'), 6), (('strong', 'little'), 1), (('strong', 'stance'), 1), (('taken', 'strong'), 1), (('powerful', 'that'), 1), (('now', 'strong'), 1), (('strong', 'sorrow'), 1), (('strong', 'nations'), 2), (('strong', 'hands'), 9), (('strong', 'regional'), 1), (('sufficiently', 'strong'), 2), (('too', 'powerful'), 2), (('strong', 'fluctuations'), 1), (('strong', 'proof'), 2), (('taking', 'strong'), 1), (('strong', 'regular'), 1), (('powerful', 'divine'), 1), (('dollar', 'strong'), 1), (('strong', 'exports'), 1), (('strong', 'confidence'), 1), (('strong', 'smelling'), 1), (('strong', 'conviction'), 1), (('strong', 'tonight'), 1), (('strong', 'frame'), 1), (('powerful', 'new'), 2), (('strong', 'reception'), 1), (('strong', 'mainframe'), 1), (('very', 'powerful'), 2), (('strong', 'said'), 3), (('strong', 'start'), 3), (('following', 'strong'), 2), (('quite', 'strong'), 3), (('strong', 'italian'), 1), (('third', 'strong'), 1), (('forehead', 'strong'), 1), (('powerful', 'streams'), 1), (('strong', '.\\'\"'), 1), (('strong', 'magnetic'), 1), (('strong', 'slew'), 1), (('strong', 'disgust'), 1), (('strong', 'tower'), 3), (('strong', '4th'), 2), (('only', 'strong'), 1), (('strong', 'voices'), 1), (('strong', 'suspicion'), 1), (('strong', 'commitment'), 1), (('powerful', 'orwell'), 1), (('strong', 'branches'), 2), (('under', 'strong'), 2), (('strong', 'bulls'), 1), (('powerful', 'unbroken'), 1), (('loins', 'strong'), 1), (('powerful', 'political'), 2), (('strong', 'dead'), 3), (('madest', 'strong'), 2), (('powerful', 'representative'), 1), (('strong', 'presence'), 3), (('powerful', 'chinese'), 1), (('strong', 'gain'), 1), (('strong', 'subordinates'), 1), (('take', 'strong'), 1), (('powerful', 'psalm'), 1), (('powerful', 'play'), 1), (('strong', 'intent'), 1), (('strong', '.\"'), 2), (('man', 'strong'), 1), (('powerful', 'conqueror'), 1), (('thousand', 'strong'), 2), (('strong', 'delusion'), 1), (('strong', 'bargain'), 1), (('forsees', 'strong'), 1), (('strong', 'man'), 9), (('strong', 'political'), 2), (('strong', 'hum'), 1), (('strong', 'workforce'), 5), (('strong', 'fourth'), 1), (('strong', 'unit'), 1), (('strong', 'medicine'), 1), (('inclination', 'strong'), 1), (('strong', 'competition'), 1), (('strong', 'expectation'), 1), (('strong', 'legends'), 1), (('sisters', 'strong'), 1), (('such', 'strong'), 1), (('swift', 'powerful'), 1), (('strong', 'financial'), 1), (('unusually', 'strong'), 1), (('make', 'strong'), 2), ((\"aren't\", 'strong'), 1), (('strong', 'determination'), 2), (('strong', 'marketings'), 1), (('by', 'powerful'), 1), (('strong', 'liking'), 1), (('him', 'strong'), 1), (('barricadoed', 'strong'), 1), (('strong', 'spectral'), 1), (('as', 'powerful'), 1), (('soldier', 'strong'), 1), (('getting', 'strong'), 1), (('strong', 'mortgage'), 1), (('more', 'strong'), 2), (('while', 'strong'), 1), (('inhabit', 'powerful'), 1), (('strong', 'local'), 1), (('strong', 'anxiety'), 1), (('strong', 'sensibility'), 2), (('strong', 'nationalist'), 1), (('has', 'strong'), 6), (('strong', 'five'), 1), (('rebuke', 'strong'), 1), (('have', 'strong'), 5), (('another', 'powerful'), 1), (('strong', 'reasons'), 2), (('strong', 'soft'), 1), (('strong', 'professional'), 1), (('strong', 'show'), 1), (('strong', '1987'), 1), (('provided', 'strong'), 1), (('strong', 'material'), 1), (('strong', 'rods'), 2), (('strong', 'objections'), 1), (('strong', 'rises'), 1), (('strong', 'an'), 2), (('near', 'strong'), 1), (('strong', 'mind'), 1), (('from', 'strong'), 4), (('strong', 'shipment'), 1), (('less', 'powerful'), 1), (('strong', 'barge'), 2), (('took', 'strong'), 1), (('powerful', 'like'), 1), (('strong', 'both'), 1), (('powerful', 'force'), 1), (('strong', 'retaliatory'), 1), (('powerful', 'in'), 3), (('this', 'strong'), 2), (('strong', 'sweet'), 1), (('strong', 'this'), 1), (('appear', 'strong'), 1), (('currently', 'strong'), 1), (('powerful', 'act'), 1), (('strong', 'too'), 1), (('strong', 'glow'), 1), (('ease', 'strong'), 1), (('voiced', 'strong'), 2), (('powerful', 'societies'), 1), (('strong', 'west'), 1), ((\"sisters'\", 'strong'), 1), (('thou', 'strong'), 2), (('expects', 'strong'), 1), (('powerful', 'fortress'), 1), (('strong', 'smell'), 1), (('powerful', 'body'), 1), ((\"artists'\", 'strong'), 1), (('strong', 'while'), 1), (('strong', 'among'), 1), (('strong', 'ought'), 1), (('strong', 'signal'), 1), (('real', 'strong'), 1), (('strong', 'opinions'), 1), (('strong', 'affection'), 1), (('strong', 'by'), 2), (('strong', 'bodily'), 1), (('claimed', 'strong'), 1), (('strong', 'was'), 2), (('most', 'strong'), 2), (('strong', 'activity'), 1), (('powerful', 'yet'), 1), (('strong', 'nose'), 2), (('strong', 'upright'), 1), (('strong', 'quarter'), 1), (('saw', 'strong'), 2), (('strong', 'pace'), 2), (('strong', '?'), 1), (('being', 'strong'), 1), (('strong', '\"'), 4), (('(', 'strong'), 2), (('powerful', 'hurry'), 1), (('strong', 'knots'), 1), (('strong', 'domestic'), 5), (('strong', 'rope'), 1), (('strong', 'carouse'), 1), (('strong', 'performance'), 9), (('especially', 'strong'), 2), (('powerful', 'transmitter'), 1), (('strong', 'reservations'), 3), (('strong', 'crying'), 1), (('become', 'strong'), 3), (('find', 'strong'), 1), (('powerful', 'central'), 2), (('less', 'strong'), 1), (('strong', 'possession'), 1), (('powerful', 'incentive'), 1), (('powerful', 'bulwark'), 1), (('face', 'strong'), 1), (('strong', 'support'), 2), (('strong', 'silence'), 1), ((',', 'powerful'), 5), (('continued', 'strong'), 8), (('mingle', 'strong'), 1), (('strong', 'emotion'), 2), (('strong', 'waves'), 1), (('putting', 'strong'), 2), (('strong', '20th-century'), 1), (('powerful', 'or'), 1), (('its', 'strong'), 7), (('preferring', 'strong'), 1), (('strong', 'outlook'), 1), (('powerful', 'glance'), 1), (('strong', 'then'), 1), (('basis', 'strong'), 1), (('strong', 'winds'), 5), (('strong', 'nociceptive'), 1), (('strong', 'guilder'), 2), (('powerful', 'of'), 1), (('strong', 'inclination'), 1), (('produced', 'strong'), 1), (('strong', 'influence'), 1), (('strong', 'understanding'), 3), (('000', 'strong'), 2), (('strong', 'naked'), 1), (('strong', 'terrific'), 1), (('solomon', 'strong'), 1), (('strong', 'vpon'), 1), (('powerful', 'operation'), 1), (('rising', 'strong'), 1), (('powerful', 'and'), 9), (('strong', 'upswing'), 1), (('to', 'strong'), 8), (('strong', 'chords'), 1), (('by', 'strong'), 8), (('strong', 'response'), 5), (('powerful', 'supports'), 1), (('strong', 'enemy'), 2), (('powerful', 'consolation'), 1), (('powerful', 'producer'), 1), (('strong', 'central'), 1), (('powerful', 'microphone'), 1), (('strong', 'line'), 1), (('his', 'powerful'), 5), (('he', 'strong'), 1), (('strong', 'potions'), 1), (('strong', 'last'), 1), (('strong', 'earthquake'), 1), (('strong', 'ahead'), 1), (('strong', 'palate'), 1), (('strong', 'economy'), 1), (('strong', 'pieces'), 1), (('strong', 'melodious'), 1), (('powerful', 'greek'), 1), (('to', 'powerful'), 1), (('strong', 'warning'), 1), (('strong', 'performances'), 1), (('i', 'strong'), 1), (('fed', 'strong'), 1), (('strong', 'rebound'), 1), (('believes', 'strong'), 1), (('strong', 'incentive'), 2), (('strong', 'adhesive'), 1), (('strong', 'advance'), 1), (('powerful', 'bond'), 1), (('strong', 'christianity'), 1), (('strong', 'shapes'), 2), (('strong', 'angel'), 1), (('strong', 'push'), 1), (('showed', 'strong'), 1), (('so', 'powerful'), 2), (('strong', 'reactions'), 1), (('certainly', 'strong'), 1), (('into', 'strong'), 3), (('powerful', 'systems'), 1), ((';', 'strong'), 1), (('strong', 'daily'), 1), (('gets', 'strong'), 1), (('strong', 'a'), 8), (('powerful', 'democratic'), 1), (('strong', 'credibility'), 1), (('exhibiting', 'strong'), 1), (('yet', 'strong'), 3), (('powerful', '.'), 3), (('strong', 'protest'), 2), (('strong', 'turnover'), 1), (('are', 'strong'), 9), (('unmanageably', 'powerful'), 1), (('strong', 'symptoms'), 1), (('strong', 'mountains'), 1), (('strong', 'ass'), 2), (('strong', 'day'), 1), (('strong', 'ethnic'), 1), (('powerful', 'business'), 1), (('strong', 'legs'), 1), (('strong', 'grounds'), 1), (('strong', 'balance'), 1), (('strong', 'explanation'), 1), (('.', 'powerful'), 3), (('strong', 'increase'), 1), (('not', 'strong'), 7), (('strong', 'national'), 2), (('countries', 'strong'), 1), (('strong', 'linkes'), 1), (('strong', 'shadow'), 1), (('strong', 'voice'), 3), (('mighty', 'strong'), 1), (('...', 'strong'), 1), (('with', 'powerful'), 2), (('strong', 'profit'), 4), (('powerful', 'requires'), 1), (('powerful', 'introject'), 1), (('understanding', 'strong'), 1), (('strong', 'heart'), 1), (('sending', 'strong'), 1), (('strong', 'eyes'), 2), (('involve', 'strong'), 1), (('strong', 'set'), 1), (('garage', 'strong'), 1), (('strong', 'wind'), 3), (('strong', 'under'), 2), (('powerful', 'opposition'), 1), (('reflecting', 'strong'), 2), (('strong', 'came'), 1), (('strong', 'increases'), 2), (('strong', 'therefore'), 2), (('strong', 'affirmation'), 1), (('otherwise', 'strong'), 1), (('stand', 'strong'), 1), (('powerful', 'destiny'), 1), (('strong', 'from'), 1), (('strong', 'hold'), 9), (('powerful', 'wine'), 1), (('strong', 'hopes'), 2), (('strong', 'joys'), 1), (('powerful', 'nations'), 1), (('commonly', 'powerful'), 1), (('generally', 'strong'), 1), (('market', 'strong'), 1), (('between', 'strong'), 1), (('strong', 'concern'), 1), (('strong', 'selling'), 1), (('some', 'strong'), 1), (('strong', 'look'), 1), (('strong', 'turn'), 1), (('strong', 'emphasis'), 1), (('strong', 'beliefs'), 1), (('her', 'powerful'), 1), (('powerful', 'beasts'), 1), (('strong', 'proofe'), 1), (('been', 'strong'), 3), (('powerful', 'engines'), 2), (('powerful', 'congressmen'), 1), (('strong', 'hints'), 1), (('strong', 'case'), 2), (('strong', 'apple'), 1), (('ghastly', 'strong'), 1), (('powerful', '.\"'), 1), (('``', 'strong'), 1), (('powerful', 'at'), 1), (('strong', 'underlying'), 1), (('strong', 'incentives'), 1), (('truly', 'strong'), 1), (('in', 'strong'), 10), (('strong', 'habit'), 1), (('**(*)', 'strong'), 1), (('s', 'powerful'), 2), (('strong', 'market'), 5), (('strong', 'woman'), 2), (('strong', 'army'), 1), (('single', 'powerful'), 1), (('strong', 'claims'), 1), (('strong', 'caricature'), 1), (('powerful', 'visual'), 1), (('cites', 'strong'), 1), (('powerful', 'nation'), 1), (('faced', 'strong'), 1), (('latest', 'strong'), 1), (('strong', 'curbs'), 1), (('strong', 'stand'), 1), (('strong', 'i'), 3), (('strong', 'wine'), 2), (('strong', 'nation'), 2), ((':', 'strong'), 2), (('strong', 'news'), 1), (('strong', 'or'), 2), (('strong', 'iron'), 1), (('strong', '1st'), 2), (('oil', 'strong'), 1), (('going', 'strong'), 1), (('any', 'powerful'), 1), (('strong', 'dollar'), 3), (('strong', 'shoulder'), 1), (('achieved', 'strong'), 1), (('-', 'powerful'), 1), (('strong', 'foundations'), 1), (('strong', 'thoughts'), 1), (('strong', 'attacks'), 1), (('inducement', 'strong'), 1), (('strong', 'defenses'), 1), (('remains', 'strong'), 2), (('operationally', 'strong'), 1), (('-', 'strong'), 6), (('strong', 'upon'), 2), (('for', 'strong'), 5), (('strong', '35'), 1), (('strong', 'bulwark'), 1), (('strong', '!'), 1), (('continuing', 'strong'), 4), (('strong', 'box'), 1), (('strong', 'staff'), 1), (('that', 'strong'), 5), (('current', 'strong'), 2), (('their', 'strong'), 5), (('strong', 'surprise'), 2), ((\"barcus'\", 'strong'), 1), (('foresees', 'strong'), 1), (('powerful', '('), 1), (('expressing', 'strong'), 1), (('powerful', 'stimulative'), 1), (('strong', 'negative'), 2), (('strong', 'spirits'), 1), (('strong', '-'), 6), (('strong', 'repugnance'), 1), (('powerful', 'music'), 1), (('call', 'powerful'), 1), (('strong', 'suspicions'), 1), (('strong', 'world'), 2), (('existing', 'strong'), 1), (('strong', 'numbers'), 1), (('strong', 'sterling'), 2), (('expected', 'strong'), 1), (('strong', 'rationale'), 2), (('strong', 'strip'), 1), (('powerful', 'argument'), 1), (('strong', 'with'), 4), (('strong', 'af'), 1), (('strong', 'place'), 1), (('m', 'strong'), 1), (('further', 'strong'), 1), (('one', 'powerful'), 1), (('powerful', 'man'), 1), (('strong', 'kept'), 1), (('you', 'strong'), 2), (('consistently', 'strong'), 1), (('strong', 'physical'), 1), (('unusually', 'powerful'), 1), (('strong', 'protectionist'), 2), (('strong', 'artists'), 1), (('strong', 'esteem'), 1), (('them', 'powerful'), 1), (('strong', 'law'), 1), (('powerful', 'agricultural'), 1), (('strong', 'shoulders'), 1), (('strong', 'full'), 1), (('strong', 'catalog'), 1), (('strong', 'pain'), 1), (('seen', 'strong'), 1), (('strong', 'transom'), 1), (('remain', 'strong'), 3), (('on', 'strong'), 6), (('said', 'strong'), 2), (('strong', 'sentiment'), 1), (('strong', 'delights'), 1), (('both', 'strong'), 1), (('strong', 'being'), 2), (('strong', 'but'), 1), (('strong', 'export'), 1), (('powerful', 'efforts'), 1), (('excessively', 'strong'), 1), (('quite', 'powerful'), 1), (('strong', 'displeasure'), 1), (('no', 'strong'), 2), (('strong', 'east'), 1), ((').', 'powerful'), 1), (('overheard', 'strong'), 1), (('strong', 'meat'), 2), (('post', 'strong'), 1), (('powerful', 'than'), 5), (('strong', 'is'), 6), (('powerful', 'to'), 1), (('fifty', 'strong'), 1), (('another', 'strong'), 2), (('despite', 'strong'), 1), (('follow', 'strong'), 1), (('powerful', 'factor'), 1), (('strong', 'horses'), 1), (('powerful', 'enemies'), 1), (('apparently', 'powerful'), 1), (('still', 'strong'), 3), (('powerful', 'company'), 1), (('strong', 'against'), 5), (('first', 'strong'), 1), (('perfume', 'strong'), 2), (('powerful', 'good'), 1), (('strong', 'implementation'), 2), (('strong', 'contrast'), 2), (('strong', 'desire'), 7), (('strong', 'young'), 2), (('felt', 'strong'), 2), (('terminal', 'strong'), 2), (('strong', 'upturn'), 1), (('powerful', 'piece'), 1), (('ice', 'strong'), 1), (('strong', 'donkey'), 1), (('pull', 'strong'), 1), (('strong', 'soapy'), 1), (('particularly', 'strong'), 9), (('against', 'strong'), 1), (('strong', 'tea'), 1), (('seems', 'strong'), 1), (('growth', 'strong'), 1), (('strong', 'gains'), 4), (('enjoyed', 'strong'), 1), (('strong', 'that'), 5), (('strong', 'listener'), 1), (('biblically', 'strong'), 1), (('ridiculously', 'strong'), 1), (('strong', 'long'), 1), (('reports', 'strong'), 1), (('strong', 'native'), 2), (('strong', 'credit'), 1), (('strong', 'water'), 1), (('strong', 'impression'), 3), (('strong', 'attraction'), 1), (('strong', 'clean'), 1), (('powerful', 'throbs'), 1), (('strong', 'people'), 2), (('strong', 'overseas'), 1), (('strong', 'it'), 1), (('partly', 'strong'), 1), (('remained', 'powerful'), 1), ((',)', 'strong'), 1), (('or', 'strong'), 2), (('epicurus', 'strong'), 1), (('give', 'strong'), 1), (('nor', 'strong'), 6), ((\"isn't\", 'strong'), 2), (('strong', 'straight'), 1), (('strong', 'attachment'), 3), (('what', 'powerful'), 1), (('strong', 'city'), 8), (('strong', 'quarterly'), 1), (('strong', 'traffic'), 1), (('strong', 'points'), 1), (('strong', 'pressure'), 3), (('strong', 'gun'), 1), (('strong', 'waters'), 1), (('strong', 'revenues'), 1), (('waxen', 'strong'), 1), (('strong', 'possibility'), 1), (('strong', 'expressions'), 1), (('or', 'powerful'), 1), (('powerful', 'sense'), 1), (('strong', 'deliveress'), 1), (('our', 'strong'), 1), (('strong', 'because'), 3), (('provide', 'strong'), 1), (('since', 'strong'), 1), (('relatively', 'strong'), 1), (('strong', 'earnings'), 8), ((\"trevelyan's\", 'strong'), 1), (('exceeding', 'strong'), 1), (('strong', 'negotiating'), 1), (('strong', 'argyllshire'), 1), (('strong', 'garrisons'), 1), (('strong', 'the'), 3), (('strong', 'hymn'), 1), (('strong', 'arm'), 5), (('recently', 'strong'), 1), (('powerful', 'rival'), 1), (('strong', 'blue'), 2), (('it', 'strong'), 1), (('strong', 'comeback'), 1), (('strong', '?\"'), 1), (('strong', 'feeling'), 5), (('two', 'strong'), 7), (('financially', 'strong'), 1), (('what', 'strong'), 1), (('this', 'powerful'), 2), (('powerful', 'errors'), 1), (('strong', 'ones'), 2), (('once', 'powerful'), 1), (('but', 'powerful'), 1), (('encounter', 'strong'), 1), (('strong', 'monetary'), 4), (('introduce', 'strong'), 1), (('powerful', 'enough'), 4), (('strong', 'french'), 1), (('strong', 'themselues'), 1), (('strong', 'performer'), 1), (('itself', 'strong'), 1), (('strong', 'sales'), 5), (('strong', 'advocate'), 1), (('powerful', 'art'), 1), (('provoked', 'strong'), 1), (('that', 'powerful'), 1), (('strong', 'lay'), 1), (('which', 'strong'), 1), (('strong', 'feelings'), 6), (('remained', 'strong'), 6), (('strong', 'backlog'), 1), (('approach', 'strong'), 1), (('strong', 'performers'), 1), (('strong', 'moonlight'), 1), (('powerful', 'temptation'), 1), (('strong', 'fellow'), 1), (('strong', 'international'), 1), (('strong', 'on'), 4), (('powerful', 'traitors'), 1), (('strong', 'base'), 1), (('whose', 'strong'), 2), (('powerful', 'glasses'), 1), (('astonishingly', 'strong'), 1), (('ye', 'strong'), 2), (('other', 'powerful'), 1), (('strong', 'protests'), 1), (('them', 'strong'), 1), (('strong', 'temperance'), 1), (('powerful', 'role'), 1), (('strong', 'sense'), 5), (('strong', 'prospects'), 1), (('strong', 'after'), 1), (('currency', 'strong'), 1), (('strong', 'nutriment'), 1), (('reduce', 'strong'), 1), (('strong', 'recently'), 1), (('powerful', 'skull'), 1), (('strong', 'cities'), 2), (('strong', 'rumors'), 1), (('strong', 'you'), 1), (('strong', 'argument'), 1), (('meet', 'strong'), 1), (('strong', 'operating'), 1), (('sparked', 'strong'), 1), (('music', 'strong'), 1), (('strong', 'tone'), 1), (('s', 'strong'), 10), ((\"foam's\", 'strong'), 1), (('strong', 'wrath'), 1), (('powerful', 'icebreaker'), 1), (('strong', 'employment'), 1), (('sufficiently', 'powerful'), 1), (('powerful', 'motive'), 1), (('powerful', 'western'), 1), (('three', 'strong'), 1), (('applying', 'strong'), 1), (('encountered', 'strong'), 1), (('strong', 'moral'), 1), (('strong', 'sun'), 1), (('powerful', ';'), 2), (('strong', 'arms'), 2), (('posted', 'strong'), 1), (('himself', 'strong'), 2), (('strong', 'one'), 2)]\n"
          ]
        }
      ]
    },
    {
      "cell_type": "markdown",
      "source": [
        "セル５の説明\n",
        "\n",
        "collocationに対応する特徴量(feature)として、頻度とstrongとpowerfulのペアである単語を抽出する。"
      ],
      "metadata": {
        "id": "zhFMkWatsh_F"
      }
    },
    {
      "cell_type": "code",
      "source": [
        "# セル５\n",
        "def features(collocation_fq):\n",
        "  features = {}\n",
        "  if collocation_fq[0][0] == 'strong' or collocation_fq[0][0] == 'powerful':\n",
        "    features['word'] = collocation_fq[0][1]\n",
        "  elif collocation_fq[0][1] == 'strong' or collocation_fq[0][1] == 'powerful':\n",
        "    features['word'] = collocation_fq[0][0]\n",
        "  features['freq'] = collocation_fq[1]\n",
        "\n",
        "  return features\n",
        "\n",
        "def get_label(collocation_fq):\n",
        "  if collocation_fq[0][0] == 'strong' or collocation_fq[0][0] == 'powerful':\n",
        "    return collocation_fq[0][0]\n",
        "  elif collocation_fq[0][1] == 'strong' or collocation_fq[0][1] == 'powerful':\n",
        "    return collocation_fq[0][1]"
      ],
      "metadata": {
        "id": "CNtTqDwz6eTP"
      },
      "execution_count": null,
      "outputs": []
    },
    {
      "cell_type": "markdown",
      "source": [
        "セル６の説明\n",
        "\n",
        "準備したデータセットの80%を学習のために使い、残りの20%をテストのために使う。\n",
        "\n",
        "学習を実行し、認識精度を求めて作成したモデルの良し悪しを測る。"
      ],
      "metadata": {
        "id": "ycXCftzetFD3"
      }
    },
    {
      "cell_type": "code",
      "source": [
        "# セル６\n",
        "\n",
        "train_size = int(len(dataset) * 0.8)\n",
        "\n",
        "train = [(features(item), get_label(item)) for item in dataset[:train_size]]\n",
        "test = [(features(item), get_label(item)) for item in dataset[train_size:]]\n",
        "\n",
        "classifier = nltk.NaiveBayesClassifier.train(train)\n",
        "print(\"認識精度   \" + str(nltk.classify.accuracy(classifier, test) * 100.0) + \" %\")"
      ],
      "metadata": {
        "colab": {
          "base_uri": "https://localhost:8080/"
        },
        "id": "B023pndi0_Kf",
        "outputId": "ce4a6d3f-c7e5-49c1-f538-e27f8505b750"
      },
      "execution_count": null,
      "outputs": [
        {
          "output_type": "stream",
          "name": "stdout",
          "text": [
            "認識精度   79.44444444444444 %\n"
          ]
        }
      ]
    },
    {
      "cell_type": "markdown",
      "source": [
        "##**Problem 3**\n",
        "###問題文\n",
        "\n",
        "The dialog act classifier assigns labels to individual posts, without considering the context in which the post is found. However, dialog acts are highly dependent on context, and some sequences of dialog act are much more likely than others. For example, a ynQuestion dialog act is much more likely to be answered by a yanswer than by a greeting. Make use of this fact to build a consecutive classifier for labeling dialog acts. Be sure to consider what features might be useful. See the code for the consecutive classifier for part-of-speech tags in 1.7 to get some ideas."
      ],
      "metadata": {
        "id": "yosfBg5461Ti"
      }
    },
    {
      "cell_type": "code",
      "source": [
        "# 問題３の解答\n",
        "\n",
        "def dialogue_act_features(target_post, i, history):\n",
        "  features = {}\n",
        "\n",
        "  for word in nltk.word_tokenize(target_post):\n",
        "    features[\"target-post-contains(%s)\" % word.lower()] = True\n",
        "  if i == 0:\n",
        "    features[\"prev-post-tag\"] = \"<START>\"\n",
        "  else:\n",
        "    features[\"prev-post-tag\"] = history[i-1]\n",
        "  \n",
        "  return features\n",
        "\n",
        "class Consecutive_post_tagger(nltk.TaggerI):\n",
        "\n",
        "  def __init__(self, train_posts):\n",
        "    train_set = []\n",
        "    history = []\n",
        "    for i in range(len(train_posts)):\n",
        "      featureset = dialogue_act_features(train_posts[i].text, i, history)\n",
        "      train_set.append( (featureset, train_posts[i].get('class')) )\n",
        "      history.append(train_posts[i].get('class'))\n",
        "    self.classifier = nltk.NaiveBayesClassifier.train(train_set)\n",
        "\n",
        "  # 学習後のtaggerを用いてtag付けを行う関数\n",
        "  def tag(self, posts):\n",
        "    history = []\n",
        "    for i in range(len(posts)):\n",
        "      featureset = dialogue_act_features(posts[i].text, i, history)\n",
        "      tag = self.classifier.classify(featureset)\n",
        "      history.append(tag)\n",
        "    return zip(posts, history)\n",
        "  \n",
        "  # テストデータに対するtaggerの精度を求める関数\n",
        "  def accuracy(self, test_posts):\n",
        "    history = []\n",
        "    test = []\n",
        "    for i in range(len(test_posts)):\n",
        "      featureset = dialogue_act_features(test_posts[i].text, i, history)\n",
        "      test.append( (featureset, test_posts[i].get('class')))\n",
        "      tag = self.classifier.classify(featureset)\n",
        "      history.append(tag)\n",
        "\n",
        "    accuracy = nltk.classify.accuracy(self.classifier, test)\n",
        "    return accuracy"
      ],
      "metadata": {
        "id": "8mcebHPF7DC-"
      },
      "execution_count": null,
      "outputs": []
    },
    {
      "cell_type": "markdown",
      "source": [
        "1. nps_chatコーパスをダウンロードする。\n",
        "2. 学習用データとテスト用データを作成する"
      ],
      "metadata": {
        "id": "HCj--pW0o4i1"
      }
    },
    {
      "cell_type": "code",
      "source": [
        "nltk.download('nps_chat')\n",
        "posts = nltk.corpus.nps_chat.xml_posts()[:10000]\n",
        "size = int(len(posts) * 0.8)\n",
        "\n",
        "train, test = posts[:size], posts[size:]"
      ],
      "metadata": {
        "colab": {
          "base_uri": "https://localhost:8080/"
        },
        "id": "AkO_Bn4r7jz1",
        "outputId": "eeb3ec25-499d-454f-847f-a5e22cf544a9"
      },
      "execution_count": null,
      "outputs": [
        {
          "output_type": "stream",
          "name": "stdout",
          "text": [
            "[nltk_data] Downloading package nps_chat to /root/nltk_data...\n",
            "[nltk_data]   Unzipping corpora/nps_chat.zip.\n"
          ]
        }
      ]
    },
    {
      "cell_type": "markdown",
      "source": [
        "Consecutive classifierを用いてdialog actの学習を行う。\n",
        "学習後、モデルの評価を行うためにaccuracy関数を用いて精度を求める。"
      ],
      "metadata": {
        "id": "78FxINx_pUac"
      }
    },
    {
      "cell_type": "code",
      "source": [
        "tagger = Consecutive_post_tagger(train)\n",
        "print(tagger.accuracy(test))"
      ],
      "metadata": {
        "colab": {
          "base_uri": "https://localhost:8080/"
        },
        "id": "Jy1WPqL-CE_N",
        "outputId": "79e5cde1-56b1-4d63-b3cc-7d40c260e81e"
      },
      "execution_count": null,
      "outputs": [
        {
          "output_type": "stream",
          "name": "stdout",
          "text": [
            "0.645\n"
          ]
        }
      ]
    }
  ]
}