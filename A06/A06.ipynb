{
  "cells": [
    {
      "cell_type": "markdown",
      "metadata": {
        "id": "OIC_meiuJ5G7"
      },
      "source": [
        "#**A06 Analyzing Sentence Structure**"
      ]
    },
    {
      "cell_type": "code",
      "execution_count": null,
      "metadata": {
        "id": "5P1ugiwJYHMw"
      },
      "outputs": [],
      "source": [
        "import nltk, re, pprint\n",
        "from nltk import word_tokenize\n",
        "\n",
        "nltk.download('all')"
      ]
    },
    {
      "cell_type": "markdown",
      "metadata": {
        "id": "LAKUUzMfJ5u-"
      },
      "source": [
        "##**問題２**\n",
        "\n",
        "###問題文\n",
        "\n",
        "Extend the grammar in grammar2 with productions that expand prepositions as intransitive, transitive and requiring a PP complement. Based on these productions, use the method of the preceding exercise to draw a tree for the sentence Lee ran away home."
      ]
    },
    {
      "cell_type": "code",
      "execution_count": null,
      "metadata": {
        "id": "q7nAmQg6JxVO"
      },
      "outputs": [],
      "source": [
        "grammar2 = nltk.CFG.fromstring(\"\"\"\n",
        "  S  -> NP VP\n",
        "  NP -> Det Nom | PropN\n",
        "  Nom -> Adj Nom | N\n",
        "  VP -> V Adj | V NP | V S | V NP PP |  VT PP | VI PP\n",
        "  PP -> P NP | P N\n",
        "  PropN -> 'Buster' | 'Chatterer' | 'Joe' | 'Lee'\n",
        "  Det -> 'the' | 'a'\n",
        "  N -> 'bear' | 'squirrel' | 'tree' | 'fish' | 'log' | 'home'\n",
        "  Adj  -> 'angry' | 'frightened' |  'little' | 'tall'\n",
        "  V ->  'chased'  | 'saw' | 'said' | 'thought' | 'was' | 'put'\n",
        "  P -> 'on' | 'away' | VT PP | VI PP\n",
        "  VT -> 'ate' | 'saw'\n",
        "  VI -> 'ran' | 'looked' \n",
        "  \"\"\")"
      ]
    },
    {
      "cell_type": "code",
      "execution_count": null,
      "metadata": {
        "colab": {
          "base_uri": "https://localhost:8080/"
        },
        "id": "BFmb3LglKs49",
        "outputId": "e064975a-1a35-4e50-a241-d67e0039e951"
      },
      "outputs": [
        {
          "output_type": "stream",
          "name": "stdout",
          "text": [
            "(S (NP (PropN Lee)) (VP (VI ran) (PP (P away) (N home))))\n"
          ]
        }
      ],
      "source": [
        "sent = \"Lee ran away home\".split()\n",
        "rd_parser = nltk.RecursiveDescentParser(grammar2)\n",
        "\n",
        "for tree in rd_parser.parse(sent):\n",
        "    print(tree)"
      ]
    },
    {
      "cell_type": "markdown",
      "source": [
        "解析結果 ( 問題２ )\n",
        "```\n",
        "(S (NP (PropN Lee)) (VP (VI ran) (PP (P away) (N home))))\n",
        "```\n",
        "この結果から見て取れるように、動詞句(VP)が自動詞 ran (VI)と前置詞句 away home (PP) として正しく解析されている。\n",
        "また、前置詞句 away home (PP) についても前置詞 away (P) と名詞 home (N) として正確に解析されている。\n"
      ],
      "metadata": {
        "id": "djeu8c84PM_Y"
      }
    },
    {
      "cell_type": "markdown",
      "metadata": {
        "id": "uedvjh-QKsWm"
      },
      "source": [
        "##**問題３**\n",
        "\n",
        "###問題文\n",
        "\n",
        "Write a program to compare the efficiency of a top-down chart parser compared with a recursive descent parser (4). Use the same grammar and input sentences for both. Compare their performance using the timeit module (see 4.7 for an example of how to do this)"
      ]
    },
    {
      "cell_type": "code",
      "execution_count": null,
      "metadata": {
        "colab": {
          "base_uri": "https://localhost:8080/"
        },
        "id": "bKP6zdPzlnW5",
        "outputId": "e9c18270-266b-4b58-a013-b1b153967e17"
      },
      "outputs": [
        {
          "output_type": "stream",
          "name": "stdout",
          "text": [
            "ChartParser 19.129158 (sec)\n",
            "RecursiveDescentParser 6.663946 (sec)\n"
          ]
        }
      ],
      "source": [
        "from timeit import Timer\n",
        "import nltk, re, pprint\n",
        "from nltk import word_tokenize\n",
        "\n",
        "# テストの際に必要となるモジュールのインポート文をstringとして保存\n",
        "my_setup = \"import nltk\"\n",
        "\n",
        "# 文法やテスト用の文字列、Parserの生成文を文字列として保存\n",
        "test_code = '''\n",
        "grammar1 = nltk.CFG.fromstring(\"\"\"\n",
        "  S  -> NP VP\n",
        "  NP -> Det Nom | PropN\n",
        "  Nom -> Adj Nom | N\n",
        "  VP -> V Adj | V NP | V S | V NP PP |  VT PP | VI PP\n",
        "  PP -> P NP | P N\n",
        "  PropN -> 'Buster' | 'Chatterer' | 'Joe' | 'Lee'\n",
        "  Det -> 'the' | 'a' | 'an'\n",
        "  N -> 'bear' | 'squirrel' | 'tree' | 'fish' | 'log' | 'home' | 'girl' | 'park'\n",
        "  Adj  -> 'angry' | 'frightened' |  'little' | 'tall'\n",
        "  V ->  'chased'  | 'saw' | 'said' | 'thought' | 'was' | 'put'\n",
        "  P -> 'on' | 'away' | 'at' | VT PP | VI PP\n",
        "  VT -> 'ate' | 'saw'\n",
        "  VI -> 'ran' | 'looked' \n",
        "  \"\"\")\n",
        "sent = \"Lee saw an angry little girl at the park\".split()\n",
        "parser1 = nltk.ChartParser(grammar1)\n",
        "parser2 = nltk.RecursiveDescentParser(grammar1)'''\n",
        "\n",
        "# top-down chart parser 用のテストコードを作成\n",
        "test1 = test_code + \"\\nparser1.parse(sent)\"\n",
        "# top-down chart parser の一万回分の実行時間を計測\n",
        "print(\"ChartParser %f (sec)\" % Timer(stmt = test1, setup = my_setup).timeit(10000))\n",
        "\n",
        "# recursive descent parser 用のテストコードを作成\n",
        "test2 = test_code + \"\\nparser2.parse(sent)\"\n",
        "# recursive descent parser の一万回分の実行時間の総和を計測\n",
        "print(\"RecursiveDescentParser %f (sec)\" % Timer(stmt = test2, setup = my_setup).timeit(10000))"
      ]
    },
    {
      "cell_type": "markdown",
      "source": [
        "ChartParser (CP) と RecursiveDescentParser (RDP) の一万回分の実行結果\n",
        "\n",
        "```\n",
        "ChartParser 15.796331 (sec)\n",
        "RecursiveDescentParser 6.692451 (sec)\n",
        "```\n",
        "\n",
        "CPはRDPに比べて２倍ほどの処理に時間がかかることがわかる。"
      ],
      "metadata": {
        "id": "HrFwOjS2cvdR"
      }
    }
  ],
  "metadata": {
    "colab": {
      "collapsed_sections": [],
      "name": "A06.ipynb",
      "provenance": []
    },
    "kernelspec": {
      "display_name": "Python 3",
      "name": "python3"
    },
    "language_info": {
      "name": "python"
    }
  },
  "nbformat": 4,
  "nbformat_minor": 0
}